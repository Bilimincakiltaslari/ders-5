{
 "cells": [
  {
   "cell_type": "code",
   "execution_count": 1,
   "metadata": {},
   "outputs": [
    {
     "name": "stdout",
     "output_type": "stream",
     "text": [
      "Kilonuz Kg olarak: 67\n",
      "Boyunuz Cm olarak: 186\n",
      "Boyunuz:1.86\n",
      "Kilonuz:67\n",
      "Vücut Kitle Endeksiniz:19.366400739969936\n",
      "\n",
      " Normal\n"
     ]
    }
   ],
   "source": [
    "kilo = int(input(\"Kilonuz Kg olarak: \"))\n",
    "boy = float(input(\"Boyunuz Cm olarak: \"))\n",
    "boy = boy/100\n",
    "vucut_kitle_endeksi = kilo / boy ** 2\n",
    "\n",
    "print(\"Boyunuz:{}\\nKilonuz:{}\\nVücut Kitle Endeksiniz:{}\".format(boy, kilo, vucut_kitle_endeksi))\n",
    "\n",
    "if vucut_kitle_endeksi < 18:\n",
    "    print(\"\\n Zayıf\")\n",
    "\n",
    "elif vucut_kitle_endeksi > 18 and vucut_kitle_endeksi < 25:\n",
    "    print(\"\\n Normal\")\n",
    "\n",
    "elif vucut_kitle_endeksi > 25 and vucut_kitle_endeksi < 30:\n",
    "    print(\"\\n Kilolu\")\n",
    "\n",
    "elif vucut_kitle_endeksi > 30:\n",
    "    print(\"\\n Obezite\")\n"
   ]
  },
  {
   "cell_type": "code",
   "execution_count": null,
   "metadata": {},
   "outputs": [],
   "source": []
  }
 ],
 "metadata": {
  "kernelspec": {
   "display_name": "Python 3",
   "language": "python",
   "name": "python3"
  },
  "language_info": {
   "codemirror_mode": {
    "name": "ipython",
    "version": 3
   },
   "file_extension": ".py",
   "mimetype": "text/x-python",
   "name": "python",
   "nbconvert_exporter": "python",
   "pygments_lexer": "ipython3",
   "version": "3.7.3"
  }
 },
 "nbformat": 4,
 "nbformat_minor": 2
}
